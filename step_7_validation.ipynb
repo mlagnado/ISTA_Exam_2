{
 "cells": [
  {
   "cell_type": "code",
   "execution_count": 57,
   "id": "183accec",
   "metadata": {},
   "outputs": [],
   "source": [
    "import numpy as np\n",
    "import pandas as pd\n",
    "import matplotlib.pyplot as plt\n",
    "from sklearn.model_selection import train_test_split\n",
    "from sklearn.model_selection import KFold"
   ]
  },
  {
   "cell_type": "markdown",
   "id": "a0d81083",
   "metadata": {},
   "source": [
    "Assistance with utilizing k-fold for validation\n",
    "\n",
    "[https://isheunesu48.medium.com/cross-validation-using-k-fold-with-scikit-learn-cfc44bf1ce6]\n",
    "(This is for a KNN model so it utilizes a classification validation)\n",
    "\n",
    "Instead we will make use of MSE and R^2"
   ]
  },
  {
   "cell_type": "code",
   "execution_count": 58,
   "id": "77d4b916",
   "metadata": {},
   "outputs": [],
   "source": [
    "#import model from step 6\n",
    "def sums(x, y):\n",
    "    '''\n",
    "    This function creates all the necessary sums for the linear regression equations\n",
    "    Inputs:\n",
    "        x (np array) data that will be used to make predictions\n",
    "        y (np array) data that will be used to check predictions\n",
    "    Outputs:\n",
    "        sum_x (float) sum of all the x values\n",
    "        sum_y (float) sum of all the y values\n",
    "        sum_x2 (float) sum of all the squared x values\n",
    "        sum_xy (float) sum of all the x values multiplied by their respective y values\n",
    "    '''\n",
    "    sum_x = np.sum(x)\n",
    "    sum_y = np.sum(y)\n",
    "    sum_x2 = np.sum(x**2)\n",
    "    sum_xy = np.sum(x*y)\n",
    "    return sum_x, sum_y, sum_x2, sum_xy\n",
    "def B_i(x,y):\n",
    "    '''\n",
    "    This function calculates the slope (B_1) and intercept (B_0) of the regression\n",
    "    Inputs:\n",
    "        x (np array) data that will be used to make predictions\n",
    "        y (np array) data that will be used to check predictions\n",
    "    Outputs:\n",
    "        B1 (float) slope of the regression\n",
    "        B0 (float) intercept for the regression\n",
    "    '''\n",
    "    sum_x, sum_y, sum_x2, sum_xy = sums(x,y)\n",
    "    numerator = ((len(x) * sum_xy) - (sum_x * sum_y))\n",
    "    denominator = ((len(x) * sum_x2) - (sum_x**2))\n",
    "    B1 = numerator/denominator\n",
    "    B0 = (sum_y - (B1 * sum_x)) / len(x)\n",
    "    return B1, B0\n",
    "def ridge_regression(x, y, Lr=0.1, penalty=0.1, epochs=10000):\n",
    "    '''\n",
    "    This function does a gradient descent for ridge regression.\n",
    "    input:\n",
    "        x: np array, predictor values\n",
    "        y: np array, target values\n",
    "        lr: float, learning rate\n",
    "        lambda: float, ridge regularization strength\n",
    "        epochs: int, number of iterations\n",
    "    output:\n",
    "        B: array with floats, Contains both the slopes and intercept after the gradient descent\n",
    "    '''\n",
    "    m, n = x.shape  #m = number of samples, n = number of features\n",
    "    slope = []\n",
    "    intercept = []\n",
    "    #My B_i fxn is meant for only one predictor so if i want to expand it to a matrix it will need to change a bit\n",
    "    for i in range(n):\n",
    "        B1, B0 = B_i(x[:,i], y[i])  #Apply B_i for each row of x\n",
    "        slope.append(B1)\n",
    "        intercept.append(B0)\n",
    "    B = np.zeros((n+1, 1))  #Initialize weights\n",
    "    B[0] = intercept  #The first row is for intercepts\n",
    "    B[1:] = np.array(slope).reshape(-1, 1)  #The rest are for slopes\n",
    "\n",
    "    #need a column in X of ones to account for B having the intercept\n",
    "    x_B = np.ones((m,n+1))\n",
    "    x_B[:,1:] = x #now x_B has x as well as a column to account to intercepts\n",
    "\n",
    "    for epoch in range(epochs):\n",
    "        Y_pred = np.dot(x_B, B) #calculate predicted y vals\n",
    "        err = Y_pred - y #find residuals\n",
    "\n",
    "        B_pen = np.copy(B) #Creating a copy of B to not interfere with updating it\n",
    "        B_pen[0] = 0 #set the intercept to 0\n",
    "        \n",
    "        dB = (1/m) * (np.dot(x_B.T, err) + penalty * B_pen) #calculate change\n",
    "        B -= Lr * dB #apply changes to B\n",
    "\n",
    "    return B"
   ]
  },
  {
   "cell_type": "code",
   "execution_count": 59,
   "id": "00a43035",
   "metadata": {},
   "outputs": [],
   "source": [
    "#Grab and normalize data like in step6 \n",
    "data = pd.read_csv('FY_2025_Hospital_Readmissions_Reduction_Program_Hospital.csv')\n",
    "data = data.drop(columns = ['Footnote'])\n",
    "data = data[data['Measure Name'] == 'READM-30-AMI-HRRP']\n",
    "#I forgot to only include heart attack patients in the first upload so I'll have to recomment everything which may be inconsistent with previous versions\n",
    "data = data.dropna()\n",
    "data['Number of Readmissions'] = data['Number of Readmissions'].astype(float)\n",
    "data['Read_Dis_ratio'] = data['Number of Readmissions'] / data['Number of Discharges']\n",
    "X_both = data['Read_Dis_ratio']\n",
    "X = data['Number of Discharges']\n",
    "Y = data['Excess Readmission Ratio']\n",
    "mean_X = np.mean(X)\n",
    "std_dev_X = np.std(X)\n",
    "normal_X = (X-mean_X)/std_dev_X\n",
    "normal_X = np.array(normal_X).reshape(-1,1)\n",
    "Y = np.array(Y).reshape(-1,1)"
   ]
  },
  {
   "cell_type": "code",
   "execution_count": 65,
   "id": "d9d4a2f1",
   "metadata": {},
   "outputs": [],
   "source": [
    "all_MSE = []\n",
    "all_R2 = []\n",
    "all_k = []\n",
    "k_list = np.arange(2,26,1)\n",
    "for k in k_list:\n",
    "    kFold=KFold(n_splits=k,shuffle=False) #using package for k-fold\n",
    "    cur_MSE = [] #for this K this will hold the scoring metrics\n",
    "    cur_R2 = []\n",
    "    for train_index,test_index in kFold.split(X): #creates indeces for the splits for this K\n",
    "        X_train, X_test, y_train, y_test = normal_X[train_index], normal_X[test_index], Y[train_index], Y[test_index] #Creates the test/train splits\n",
    "        B = ridge_regression(X_train,y_train,epochs=1000) #puts the training set through the model\n",
    "        #print(B)\n",
    "        Y_pred = B[0] + B[1]*X_test #creates predictions for the test data\n",
    "        MSE = (1/len(Y_pred))*np.sum((Y_pred-y_test)**2) #calculates MSE\n",
    "        RSS = np.sum((Y_pred - y_test)**2)\n",
    "        TSS = np.sum((y_test - np.mean(y_test))**2)\n",
    "        R2 = 1 - (RSS/TSS) #calculates R^2\n",
    "        cur_MSE.append(MSE)\n",
    "        cur_R2.append(R2)\n",
    "        '''\n",
    "        I think I don't need the avg around here which I realize as I comment this.\n",
    "        I don't want to break it now that it's working but it shouldn't add much runtime if its doing an avg of one value.\n",
    "        '''\n",
    "    avg_mse = np.mean(cur_MSE) #finds the avg value for this k\n",
    "    avg_r2 = np.mean(cur_R2) #finds the avg for this k\n",
    "    all_MSE.append(avg_mse)\n",
    "    all_R2.append(avg_r2)\n",
    "    all_k.append(k)\n"
   ]
  },
  {
   "cell_type": "markdown",
   "id": "034a2c24",
   "metadata": {},
   "source": [
    "Assisted in developing evaluation [https://towardsdatascience.com/evaluation-metrics-model-selection-in-linear-regression-73c7573208be/]"
   ]
  },
  {
   "cell_type": "code",
   "execution_count": 67,
   "id": "744945a8",
   "metadata": {},
   "outputs": [
    {
     "data": {
      "image/png": "[encoded data removed]",
      "text/plain": [
       "<Figure size 640x480 with 1 Axes>"
      ]
     },
     "metadata": {},
     "output_type": "display_data"
    }
   ],
   "source": [
    "#plot the score metrics\n",
    "plt.scatter(all_k, all_MSE, s=5, label='MSE')\n",
    "plt.scatter(all_k, all_R2, s=5, label=r'$R^2$')\n",
    "plt.xlabel('Number of folds')\n",
    "plt.ylabel(r'MSE or $R^2$ metric')\n",
    "plt.title('K-fold validation')\n",
    "plt.ylim(0,0.05)\n",
    "plt.legend()\n",
    "plt.show()"
   ]
  },
  {
   "cell_type": "markdown",
   "id": "643c3c34",
   "metadata": {},
   "source": [
    "As we can see the MSE stays constantas we increase the number of folds. This shows that the model is consistent with its error compared to the data. However the R^2 values tend to decrease with more folds. This tells us the model is poor at describing the variance in the model."
   ]
  },
  {
   "cell_type": "markdown",
   "id": "56e552d6",
   "metadata": {},
   "source": [
    "Due to the high variance in the dataset to begin with this should be a good sign because the MSE stays constant. This tells us the model is good at making predictions. So in this case a consistent MSE would be more meaningful than the low R^2."
   ]
  },
  {
   "cell_type": "markdown",
   "id": "1fd5091a",
   "metadata": {},
   "source": []
  }
 ],
 "metadata": {
  "kernelspec": {
   "display_name": "Python 3",
   "language": "python",
   "name": "python3"
  },
  "language_info": {
   "codemirror_mode": {
    "name": "ipython",
    "version": 3
   },
   "file_extension": ".py",
   "mimetype": "text/x-python",
   "name": "python",
   "nbconvert_exporter": "python",
   "pygments_lexer": "ipython3",
   "version": "3.11.9"
  }
 },
 "nbformat": 4,
 "nbformat_minor": 5
}
